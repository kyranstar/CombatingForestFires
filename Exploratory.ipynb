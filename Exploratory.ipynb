{
  "nbformat": 4,
  "nbformat_minor": 0,
  "metadata": {
    "colab": {
      "name": "Exploratory.ipynb",
      "provenance": [],
      "collapsed_sections": [],
      "machine_shape": "hm"
    },
    "kernelspec": {
      "name": "python3",
      "display_name": "Python 3"
    }
  },
  "cells": [
    {
      "cell_type": "code",
      "metadata": {
        "id": "5eryOR4Hl36K",
        "colab_type": "code",
        "colab": {
          "base_uri": "https://localhost:8080/",
          "height": 35
        },
        "outputId": "91279695-4007-48c6-8b11-5c315b6d67ae"
      },
      "source": [
        "# Installing the PyDrive in Python Environment in Colab\n",
        "!pip install -U -q PyDrive\n",
        "!pip install tqdm\n",
        "\n",
        "# Importing the necessary libraries for google drive authentication\n",
        "from pydrive.auth import GoogleAuth\n",
        "from pydrive.drive import GoogleDrive\n",
        "from google.colab import auth\n",
        "from oauth2client.client import GoogleCredentials"
      ],
      "execution_count": 1,
      "outputs": [
        {
          "output_type": "stream",
          "text": [
            "Requirement already satisfied: tqdm in /usr/local/lib/python3.6/dist-packages (4.28.1)\n"
          ],
          "name": "stdout"
        }
      ]
    },
    {
      "cell_type": "code",
      "metadata": {
        "id": "UDmqPeqs1B6P",
        "colab_type": "code",
        "colab": {}
      },
      "source": [
        "# Authenticate to google drive\n",
        "auth.authenticate_user()\n",
        "gauth = GoogleAuth()\n",
        "gauth.credentials = GoogleCredentials.get_application_default()\n",
        "drive = GoogleDrive(gauth)\n",
        "\n",
        "def get_drive_access(drive_link, filename):\n",
        "  \"\"\"\n",
        "  Loads a drive file into local storage for access. Once this method is called,\n",
        "  a file can be accessed as if it were a local file.\n",
        "\n",
        "  drive_link: the url of the file on google drive\n",
        "  filename: the file's filename\n",
        "  \"\"\"\n",
        "  drive_id = drive_link.split('=')[1]\n",
        "  downloaded = drive.CreateFile({'id':drive_id })\n",
        "  downloaded.GetContentFile(filename)"
      ],
      "execution_count": 0,
      "outputs": []
    },
    {
      "cell_type": "code",
      "metadata": {
        "id": "Cc2ycqfW0xLM",
        "colab_type": "code",
        "colab": {}
      },
      "source": [
        "import sqlalchemy\n",
        "import pandas as pd\n",
        "import numpy as np\n",
        "import sklearn\n",
        "import gzip\n",
        "import datetime\n",
        "from tqdm import tqdm"
      ],
      "execution_count": 0,
      "outputs": []
    },
    {
      "cell_type": "code",
      "metadata": {
        "id": "LmODWCf3ptWQ",
        "colab_type": "code",
        "colab": {}
      },
      "source": [
        "db_link = 'https://drive.google.com/open?id=1Fcq2Xz1iWqkYrPSlgIx4ibMmAxZfth7a'\n",
        "db_filename = \"fpa_fod.sqlite\"\n",
        "get_drive_access(db_link, db_filename)\n",
        "\n",
        "engine = sqlalchemy.create_engine('sqlite:///./fpa_fod.sqlite')\n",
        "conn = engine.connect()"
      ],
      "execution_count": 0,
      "outputs": []
    },
    {
      "cell_type": "code",
      "metadata": {
        "id": "Ro5hSREMm3Kk",
        "colab_type": "code",
        "outputId": "f46ca6ac-09ae-42be-bddd-455d4b83102d",
        "colab": {
          "base_uri": "https://localhost:8080/",
          "height": 156
        }
      },
      "source": [
        "df = pd.read_sql_query(\"SELECT FIRE_YEAR,CONT_DATE,STAT_CAUSE_DESCR,LATITUDE,LONGITUDE,STATE,DISCOVERY_DATE,FIRE_SIZE FROM 'Fires'\", conn)\n",
        "print(df.head()) #check the data"
      ],
      "execution_count": 5,
      "outputs": [
        {
          "output_type": "stream",
          "text": [
            "   FIRE_YEAR  CONT_DATE STAT_CAUSE_DESCR  ...  STATE  DISCOVERY_DATE FIRE_SIZE\n",
            "0       2005  2453403.5    Miscellaneous  ...     CA       2453403.5      0.10\n",
            "1       2004  2453137.5        Lightning  ...     CA       2453137.5      0.25\n",
            "2       2004  2453156.5   Debris Burning  ...     CA       2453156.5      0.10\n",
            "3       2004  2453189.5        Lightning  ...     CA       2453184.5      0.10\n",
            "4       2004  2453189.5        Lightning  ...     CA       2453184.5      0.10\n",
            "\n",
            "[5 rows x 8 columns]\n"
          ],
          "name": "stdout"
        }
      ]
    },
    {
      "cell_type": "code",
      "metadata": {
        "id": "qUrldpfQAYb-",
        "colab_type": "code",
        "colab": {}
      },
      "source": [
        "def convert(df):\n",
        "  epoch = pd.to_datetime(0, unit='s').to_julian_date()\n",
        "  df['CONT_DATE'] = pd.to_datetime(df['CONT_DATE'] - epoch, unit='D')\n",
        "  df['DISCOVERY_DATE'] = pd.to_datetime(df['DISCOVERY_DATE'] - epoch, unit = 'D')\n",
        "  df['FIRE_DURATION'] = df['CONT_DATE'] - df['DISCOVERY_DATE']\n",
        "  df['FIRE_DURATION'] = df['FIRE_DURATION'].dt.days\n",
        "  df['FIRE_DURATION'].fillna(df['FIRE_DURATION'].mean(),inplace = True)\n",
        "  df['FIRE_DURATION'] = df['FIRE_DURATION'].apply(lambda x : int(x))\n",
        "  return(df)"
      ],
      "execution_count": 0,
      "outputs": []
    },
    {
      "cell_type": "code",
      "metadata": {
        "id": "3oJMzRRR6-2B",
        "colab_type": "code",
        "outputId": "14788f96-0193-415a-d3b2-df3ca5ad9445",
        "colab": {
          "base_uri": "https://localhost:8080/",
          "height": 55
        }
      },
      "source": [
        "dfl2 = pd.read_sql_query(\"SELECT * FROM 'Fires' LIMIT 10000\", conn)\n",
        "print(list(dfl2.columns))"
      ],
      "execution_count": 7,
      "outputs": [
        {
          "output_type": "stream",
          "text": [
            "['OBJECTID', 'FOD_ID', 'FPA_ID', 'SOURCE_SYSTEM_TYPE', 'SOURCE_SYSTEM', 'NWCG_REPORTING_AGENCY', 'NWCG_REPORTING_UNIT_ID', 'NWCG_REPORTING_UNIT_NAME', 'SOURCE_REPORTING_UNIT', 'SOURCE_REPORTING_UNIT_NAME', 'LOCAL_FIRE_REPORT_ID', 'LOCAL_INCIDENT_ID', 'FIRE_CODE', 'FIRE_NAME', 'ICS_209_INCIDENT_NUMBER', 'ICS_209_NAME', 'MTBS_ID', 'MTBS_FIRE_NAME', 'COMPLEX_NAME', 'FIRE_YEAR', 'DISCOVERY_DATE', 'DISCOVERY_DOY', 'DISCOVERY_TIME', 'STAT_CAUSE_CODE', 'STAT_CAUSE_DESCR', 'CONT_DATE', 'CONT_DOY', 'CONT_TIME', 'FIRE_SIZE', 'FIRE_SIZE_CLASS', 'LATITUDE', 'LONGITUDE', 'OWNER_CODE', 'OWNER_DESCR', 'STATE', 'COUNTY', 'FIPS_CODE', 'FIPS_NAME', 'Shape']\n"
          ],
          "name": "stdout"
        }
      ]
    },
    {
      "cell_type": "code",
      "metadata": {
        "id": "herDlok87XDy",
        "colab_type": "code",
        "colab": {}
      },
      "source": [
        "dfl2 = convert(dfl2)\n",
        "df = convert(df)"
      ],
      "execution_count": 0,
      "outputs": []
    },
    {
      "cell_type": "code",
      "metadata": {
        "id": "HJUsQnTA8IYs",
        "colab_type": "code",
        "outputId": "26f01819-741e-4d1f-8703-960aa4edcb75",
        "colab": {
          "base_uri": "https://localhost:8080/",
          "height": 260
        }
      },
      "source": [
        "print(dfl2[[\"CONT_DATE\", \"DISCOVERY_DATE\", \"STATE\", \"COUNTY\", \"FIPS_CODE\", \"FIPS_NAME\"]])"
      ],
      "execution_count": 9,
      "outputs": [
        {
          "output_type": "stream",
          "text": [
            "      CONT_DATE DISCOVERY_DATE STATE COUNTY FIPS_CODE  FIPS_NAME\n",
            "0    2005-02-02     2005-02-02    CA     63       063     Plumas\n",
            "1    2004-05-12     2004-05-12    CA     61       061     Placer\n",
            "2    2004-05-31     2004-05-31    CA     17       017  El Dorado\n",
            "3    2004-07-03     2004-06-28    CA      3       003     Alpine\n",
            "4    2004-07-03     2004-06-28    CA      3       003     Alpine\n",
            "...         ...            ...   ...    ...       ...        ...\n",
            "9995 2006-08-08     2006-08-07    CA     93       093   Siskiyou\n",
            "9996 2006-08-08     2006-08-07    CA     93       093   Siskiyou\n",
            "9997 2006-08-06     2006-08-06    OR     35       035    Klamath\n",
            "9998 2006-07-26     2006-07-23    OR     19       019    Douglas\n",
            "9999 2006-08-11     2006-08-08    CA     93       093   Siskiyou\n",
            "\n",
            "[10000 rows x 6 columns]\n"
          ],
          "name": "stdout"
        }
      ]
    },
    {
      "cell_type": "code",
      "metadata": {
        "id": "5HCxdDWmkQqT",
        "colab_type": "code",
        "outputId": "c938f55e-38b0-42f4-fe15-94b6dd24833f",
        "colab": {
          "base_uri": "https://localhost:8080/",
          "height": 295
        }
      },
      "source": [
        "# Load station data into memory\n",
        "station_link = 'https://drive.google.com/open?id=1loqhXTyhpgm8GMjdAOpuKcoIWEOBfgWx'\n",
        "station_filename = 'ghcnd-stations.txt'\n",
        "get_drive_access(station_link, station_filename)\n",
        "station_df = pd.read_csv(station_filename, header=None, delimiter=\"\\t\", names = ['station_id', 'lat', 'long', ''])\n",
        "station_df = station_df[['station_id', 'lat', 'long']]\n",
        "station_df = station_df[station_df['station_id'].str.contains(\"US\")]\n",
        "print(station_df.head())\n",
        "\n",
        "precip_files = [#('https://drive.google.com/open?id=1wwK97X8F4xrddxIiLc23jhT0qq5Zrgfa', '1992.csv.gz'),\n",
        "                #('https://drive.google.com/open?id=1a5Fveq3ThnCcrh7-rfc6onEZ5VSvFd1v', '1993.csv.gz'),\n",
        "                #('https://drive.google.com/open?id=175KezgsyUiM-nK0HZlUeJzf-29_V-fLJ', '1994.csv.gz'),\n",
        "                #('https://drive.google.com/open?id=1eCwvjED4NRIBnDu2AvTI9CeiPyaloWRQ', '1995.csv.gz'),\n",
        "                #('https://drive.google.com/open?id=1SV59vfArbsaSw5KdFKzLpxCYEDlxOa6a', '1996.csv.gz'),\n",
        "\n",
        "                #('https://drive.google.com/open?id=1XjbJgFAjxzxYrFti25sWLIHvWq0qX91c', '2000.csv.gz'),\n",
        "                #('https://drive.google.com/open?id=1SR0U46Jf__wK3IKOwGl-mByDwlFkmYu2', '2001.csv.gz'),\n",
        "                #('https://drive.google.com/open?id=1m_amlcvPrjZdL744qBKlVkmTpQ_b7Z0D', '2002.csv.gz'),\n",
        "                #('https://drive.google.com/open?id=132vI6Z5a8qBV3kHygjrdAf7DO-mUcgIV', '2003.csv.gz'),\n",
        "                #('https://drive.google.com/open?id=1kIB3g75zFs609BAaFlOBdaq6DzqjO3mK', '2004.csv.gz'),\n",
        "                #('https://drive.google.com/open?id=1xlca2LnXN5jIMgike4v9-8C6mqg9yDWs', '2005.csv.gz'),\n",
        "                #('https://drive.google.com/open?id=1uwn7VB4rTlN2ahk4YV3U64NNnn04kTLK', '2006.csv.gz'),\n",
        "                #('https://drive.google.com/open?id=1Ap_pCam1p7oq2-14ltIeq5-QSVJQOvHi', '2007.csv.gz'),\n",
        "                #('https://drive.google.com/open?id=1ouxz7KeNDj7El1oxnYWgkxZn3JH-RljD', '2008.csv.gz'),\n",
        "                #('https://drive.google.com/open?id=1F0zrXAYzOZzHAv6nS4mrEWgLhHhLWSHJ', '2011.csv.gz')\n",
        "                #('https://drive.google.com/open?id=1T3GffQ-ukgAX9cNOU3iKGVhEtvysgMwV', '2012.csv.gz'),\n",
        "                ('https://drive.google.com/open?id=1AOFK7irqXZvHNgSrAwOtPmCLaJm4Q7RP', '2013.csv.gz'),\n",
        "                ('https://drive.google.com/open?id=1iVhJ6FLvQYS9WKhdd9O5U07HiPQiOT4m', '2014.csv.gz'),\n",
        "                ('https://drive.google.com/open?id=14Rr6Q1hWXCcGzsU0nb-A2-lU3xMSArTj', '2015.csv.gz')\n",
        "                ]\n",
        "# Get access to all precipitation files\n",
        "for (precip_link, precip_filename) in precip_files:\n",
        "  get_drive_access(precip_link, precip_filename)\n",
        "\n",
        "# Load precipitation data into memory\n",
        "precip_dfs = None\n",
        "for (_, precip_filename) in precip_files:\n",
        "  print(f\"Loading {precip_filename}...\")\n",
        "  with gzip.open(precip_filename, mode='rt') as f:\n",
        "    precip_df = pd.read_csv(f, names = [\"station_id\", \"date\", \"label\", \"value\", \"u1\", \"u2\", \"u3\", \"u4\"])\n",
        "    precip_df = precip_df.drop([\"u1\", \"u2\", \"u3\", \"u4\"], axis =1)\n",
        "    precip_df = precip_df[precip_df['station_id'].str.contains(\"US\")]\n",
        "    precip_df[\"date\"] = pd.to_datetime(precip_df['date'], format='%Y%M%d')\n",
        "    precip_df['value'] = precip_df['value'].astype('float64')\n",
        "    if precip_dfs is None:\n",
        "      precip_dfs = precip_df\n",
        "    else:\n",
        "      precip_dfs = precip_dfs.append(precip_df)\n",
        "\n",
        "print(precip_dfs.head())\n",
        "print(precip_dfs.shape[0])\n"
      ],
      "execution_count": 43,
      "outputs": [
        {
          "output_type": "stream",
          "text": [
            "        station_id      lat      long\n",
            "52435  US009052008  43.7333  -96.6333\n",
            "52436  US10RMHS145  40.5268 -105.1113\n",
            "52437  US10adam001  40.5680  -98.5069\n",
            "52438  US10adam002  40.5093  -98.5493\n",
            "52439  US10adam003  40.4663  -98.6537\n",
            "Loading 2013.csv.gz...\n",
            "Loading 2014.csv.gz...\n",
            "Loading 2015.csv.gz...\n",
            "    station_id                date label  value\n",
            "0  US1FLSL0019 2013-01-01 00:01:00  PRCP    0.0\n",
            "1  US1FLSL0019 2013-01-01 00:01:00  SNOW    0.0\n",
            "2  US1TXTV0133 2013-01-01 00:01:00  PRCP   30.0\n",
            "3  USC00178998 2013-01-01 00:01:00  TMAX  -22.0\n",
            "4  USC00178998 2013-01-01 00:01:00  TMIN -117.0\n",
            "74585821\n"
          ],
          "name": "stdout"
        }
      ]
    },
    {
      "cell_type": "code",
      "metadata": {
        "id": "XUrH2dwfpHAq",
        "colab_type": "code",
        "outputId": "ec3bca67-fe5a-41fd-ea47-2f6800468a1f",
        "colab": {
          "base_uri": "https://localhost:8080/",
          "height": 1000
        }
      },
      "source": [
        "# Shows the most reported data columns\n",
        "#print(precip_dfs[0]['label'].value_counts()[:20])\n",
        "from multiprocessing import Pool\n",
        "def parallelize_dataframe(df, func, n_cores=4):\n",
        "    df_split = np.array_split(df, n_cores)\n",
        "    pool = Pool(n_cores)\n",
        "    df = pd.concat(pool.map(func, df_split))\n",
        "    pool.close()\n",
        "    pool.join()\n",
        "    return df\n",
        "\n",
        "def clean_precip(dt):\n",
        "  \"\"\"\n",
        "  Given a precipitation file, returns a file with the columns station_id and date along with the core_values.\n",
        "  The value of each core_value is None if it is not reported by the station, and the value reported otherwise.\n",
        "\n",
        "  \"\"\"\n",
        "  core_values=['TMAX', 'TMIN', 'PRCP', 'SNOW', 'SNWD']\n",
        "  dt = dt[dt.label.isin(core_values)]\n",
        "  # Aggregates all rows with matching station id and date so that their labels and values are each under one column, seperated by spaces\n",
        "  dt = dt.groupby([\"station_id\", \"date\"], as_index=False).agg({\n",
        "      'label': ' '.join, 'value': lambda x: ' '.join([str(y) for y in x])})\n",
        "  def seperate_labels(row):\n",
        "    labels = row['label'].split(' ')\n",
        "    values = row['value'].split(' ')\n",
        "    for label, val in zip(labels, values):\n",
        "      row[label] = val\n",
        "    return row\n",
        "  \n",
        "  for col in core_values:\n",
        "    dt[col] = None\n",
        "  dt = dt.apply(seperate_labels, axis=1)\n",
        "  dt = dt.drop(['label', 'value'], axis=1)\n",
        "  return dt\n",
        "\n",
        "def convert_precip_units(dt):\n",
        "  \"\"\"\n",
        "  Converts temperatures to celcius, rainfall/snowfall to mm\n",
        "  \"\"\"\n",
        "  print(\"Converting units...\")\n",
        "  # Maximum temp, min temp, precipitation, snowfall, snow depth, temperature at observation, average temperature\n",
        "  # temp in tenths of C, precip in tenths of mm, else in mm\n",
        "  for temp in ['TMAX', 'TMIN']:\n",
        "    dt[temp] = dt[temp].astype('float64') / 10\n",
        "  dt['PRCP'] = dt['PRCP'].astype('float64') / 10\n",
        "  for val in ['SNOW', 'SNWD']:\n",
        "    dt[val] = dt[val].astype('float64')\n",
        "  return dt\n",
        "\n",
        "print(precip_df.shape[0])\n",
        "precip_df = convert_precip_units(clean_precip(precip_dfs))\n",
        "print(precip_df.shape[0])\n",
        "\n",
        "# Combine lat and long\n",
        "precip_df = pd.merge(station_df, precip_df, how='right')\n",
        "print(precip_df.head())\n",
        "print(\"Saving dataframe...\")\n",
        "precip_df.to_pickle(\"precip_df.pkl\")\n",
        "def upload_file(filepath):\n",
        "  f = drive.CreateFile({\"parents\": [{\"kind\": \"drive#fileLink\", \"id\": '1gywu_xOi_ZWXPpooXt3-A22AUlTvwqVS'}]})\n",
        "  f.SetContentFile(filepath)\n",
        "  f.Upload()\n",
        "upload_file('precip_df.pkl')\n",
        "\n"
      ],
      "execution_count": 49,
      "outputs": [
        {
          "output_type": "stream",
          "text": [
            "24729229\n"
          ],
          "name": "stdout"
        },
        {
          "output_type": "stream",
          "text": [
            "ERROR:root:Internal Python error in the inspect module.\n",
            "Below is the traceback from this internal error.\n",
            "\n"
          ],
          "name": "stderr"
        },
        {
          "output_type": "stream",
          "text": [
            "Traceback (most recent call last):\n",
            "  File \"/usr/local/lib/python3.6/dist-packages/IPython/core/interactiveshell.py\", line 2882, in run_code\n",
            "    exec(code_obj, self.user_global_ns, self.user_ns)\n",
            "  File \"<ipython-input-49-0e2e57e49417>\", line 49, in <module>\n",
            "    precip_df = convert_precip_units(clean_precip(precip_dfs))\n"
          ],
          "name": "stdout"
        },
        {
          "output_type": "error",
          "ename": "KeyboardInterrupt",
          "evalue": "ignored",
          "traceback": [
            "\u001b[0;31m---------------------------------------------------------------------------\u001b[0m"
          ]
        },
        {
          "output_type": "stream",
          "text": [
            "  File \"<ipython-input-49-0e2e57e49417>\", line 20, in clean_precip\n",
            "    'label': ' '.join, 'value': lambda x: ' '.join([str(y) for y in x])})\n",
            "  File \"/usr/local/lib/python3.6/dist-packages/pandas/core/groupby/generic.py\", line 1455, in aggregate\n",
            "    return super().aggregate(arg, *args, **kwargs)\n",
            "  File \"/usr/local/lib/python3.6/dist-packages/pandas/core/groupby/generic.py\", line 229, in aggregate\n",
            "    result, how = self._aggregate(func, _level=_level, *args, **kwargs)\n",
            "  File \"/usr/local/lib/python3.6/dist-packages/pandas/core/base.py\", line 506, in _aggregate\n",
            "    result = _agg(arg, _agg_1dim)\n",
            "  File \"/usr/local/lib/python3.6/dist-packages/pandas/core/base.py\", line 456, in _agg\n",
            "    result[fname] = func(fname, agg_how)\n",
            "  File \"/usr/local/lib/python3.6/dist-packages/pandas/core/base.py\", line 440, in _agg_1dim\n",
            "    return colg.aggregate(how, _level=(_level or 0) + 1)\n",
            "  File \"/usr/local/lib/python3.6/dist-packages/pandas/core/groupby/generic.py\", line 860, in aggregate\n",
            "    return self._python_agg_general(func_or_funcs, *args, **kwargs)\n",
            "  File \"/usr/local/lib/python3.6/dist-packages/pandas/core/groupby/groupby.py\", line 900, in _python_agg_general\n",
            "    result, counts = self.grouper.agg_series(obj, f)\n",
            "  File \"/usr/local/lib/python3.6/dist-packages/pandas/core/groupby/ops.py\", line 663, in agg_series\n",
            "    return self._aggregate_series_fast(obj, func)\n",
            "  File \"/usr/local/lib/python3.6/dist-packages/pandas/core/groupby/ops.py\", line 681, in _aggregate_series_fast\n",
            "    result, counts = grouper.get_result()\n",
            "  File \"pandas/_libs/reduction.pyx\", line 429, in pandas._libs.reduction.SeriesGrouper.get_result\n",
            "  File \"pandas/_libs/reduction.pyx\", line 413, in pandas._libs.reduction.SeriesGrouper.get_result\n",
            "  File \"/usr/local/lib/python3.6/dist-packages/pandas/core/groupby/groupby.py\", line 894, in <lambda>\n",
            "    f = lambda x: func(x, *args, **kwargs)\n",
            "  File \"/usr/local/lib/python3.6/dist-packages/pandas/core/base.py\", line 1198, in __iter__\n",
            "    if is_datetimelike(self._values):\n",
            "  File \"/usr/local/lib/python3.6/dist-packages/pandas/core/series.py\", line 567, in _values\n",
            "    return self._data.internal_values()\n",
            "  File \"/usr/local/lib/python3.6/dist-packages/pandas/core/internals/managers.py\", line 1586, in internal_values\n",
            "    return self._block.internal_values()\n",
            "  File \"/usr/local/lib/python3.6/dist-packages/pandas/core/internals/blocks.py\", line 207, in internal_values\n",
            "    def internal_values(self, dtype=None):\n",
            "KeyboardInterrupt\n",
            "\n",
            "During handling of the above exception, another exception occurred:\n",
            "\n",
            "Traceback (most recent call last):\n",
            "  File \"/usr/local/lib/python3.6/dist-packages/IPython/core/interactiveshell.py\", line 1823, in showtraceback\n",
            "    stb = value._render_traceback_()\n",
            "AttributeError: 'KeyboardInterrupt' object has no attribute '_render_traceback_'\n",
            "\n",
            "During handling of the above exception, another exception occurred:\n",
            "\n",
            "Traceback (most recent call last):\n",
            "  File \"/usr/local/lib/python3.6/dist-packages/IPython/core/ultratb.py\", line 1132, in get_records\n",
            "    return _fixed_getinnerframes(etb, number_of_lines_of_context, tb_offset)\n",
            "  File \"/usr/local/lib/python3.6/dist-packages/IPython/core/ultratb.py\", line 313, in wrapped\n",
            "    return f(*args, **kwargs)\n",
            "  File \"/usr/local/lib/python3.6/dist-packages/IPython/core/ultratb.py\", line 358, in _fixed_getinnerframes\n",
            "    records = fix_frame_records_filenames(inspect.getinnerframes(etb, context))\n",
            "  File \"/usr/lib/python3.6/inspect.py\", line 1490, in getinnerframes\n",
            "    frameinfo = (tb.tb_frame,) + getframeinfo(tb, context)\n",
            "  File \"/usr/lib/python3.6/inspect.py\", line 1452, in getframeinfo\n",
            "    lines, lnum = findsource(frame)\n",
            "  File \"/usr/local/lib/python3.6/dist-packages/IPython/core/ultratb.py\", line 182, in findsource\n",
            "    lines = linecache.getlines(file, globals_dict)\n",
            "  File \"/usr/lib/python3.6/linecache.py\", line 47, in getlines\n",
            "    return updatecache(filename, module_globals)\n",
            "  File \"/usr/lib/python3.6/linecache.py\", line 136, in updatecache\n",
            "    with tokenize.open(fullname) as fp:\n",
            "  File \"/usr/lib/python3.6/tokenize.py\", line 454, in open\n",
            "    encoding, lines = detect_encoding(buffer.readline)\n",
            "  File \"/usr/lib/python3.6/tokenize.py\", line 423, in detect_encoding\n",
            "    first = read_or_stop()\n",
            "  File \"/usr/lib/python3.6/tokenize.py\", line 381, in read_or_stop\n",
            "    return readline()\n",
            "KeyboardInterrupt\n"
          ],
          "name": "stdout"
        }
      ]
    },
    {
      "cell_type": "code",
      "metadata": {
        "id": "idgQmA0ELO_Z",
        "colab_type": "code",
        "colab": {}
      },
      "source": [
        "get_drive_access('https://drive.google.com/open?id=1ywUJqNmfkvZxtebK2v0lLn-yTeWsEDS7', 'precip_df.pkl')\n",
        "precip_df = pd.read_pickle(\"precip_df.pkl\")"
      ],
      "execution_count": 0,
      "outputs": []
    },
    {
      "cell_type": "code",
      "metadata": {
        "id": "hpVPx4kcZQ56",
        "colab_type": "code",
        "colab": {
          "base_uri": "https://localhost:8080/",
          "height": 451
        },
        "outputId": "0c202c40-fa2f-4a17-a0e2-f5220e11152c"
      },
      "source": [
        "# Create new database consisting only of rows that are relevant to fires (time of fire plus a week)\n",
        "print(precip_df.head())\n",
        "print(precip_df.shape[0])\n",
        "#precip_df = precip_df[:20000]\n",
        "print(precip_df.head())\n",
        "print(precip_df.shape[0])\n",
        "# Group into weeks. Result of this is the ending day is the date.\n",
        "gb = precip_df.groupby([pd.Grouper('station_id'), pd.Grouper(key='date',freq='W')])\n",
        "precip_small = gb.agg({'lat': 'mean', 'long': 'mean', 'TMAX': 'max', 'TMIN': 'min', 'PRCP': 'sum', 'SNOW': 'sum', 'SNWD': 'sum'})\n",
        "precip_small.reset_index(inplace=True)  \n",
        "\n",
        "print(precip_small.head())\n",
        "print(precip_small.shape[0])"
      ],
      "execution_count": 24,
      "outputs": [
        {
          "output_type": "stream",
          "text": [
            "    station_id      lat     long                date  ...  TMIN  PRCP  SNOW  SNWD\n",
            "0  US10adam002  40.5093 -98.5493 2008-01-01 00:01:00  ...   NaN   0.0   NaN   NaN\n",
            "1  US10adam002  40.5093 -98.5493 2008-01-02 00:01:00  ...   NaN   0.0   NaN   NaN\n",
            "2  US10adam002  40.5093 -98.5493 2008-01-03 00:01:00  ...   NaN   0.0   NaN   NaN\n",
            "3  US10adam002  40.5093 -98.5493 2008-01-04 00:01:00  ...   NaN   0.0   NaN   NaN\n",
            "4  US10adam002  40.5093 -98.5493 2008-01-05 00:01:00  ...   NaN   0.0   NaN   NaN\n",
            "\n",
            "[5 rows x 9 columns]\n",
            "223994\n",
            "    station_id      lat     long                date  ...  TMIN  PRCP  SNOW  SNWD\n",
            "0  US10adam002  40.5093 -98.5493 2008-01-01 00:01:00  ...   NaN   0.0   NaN   NaN\n",
            "1  US10adam002  40.5093 -98.5493 2008-01-02 00:01:00  ...   NaN   0.0   NaN   NaN\n",
            "2  US10adam002  40.5093 -98.5493 2008-01-03 00:01:00  ...   NaN   0.0   NaN   NaN\n",
            "3  US10adam002  40.5093 -98.5493 2008-01-04 00:01:00  ...   NaN   0.0   NaN   NaN\n",
            "4  US10adam002  40.5093 -98.5493 2008-01-05 00:01:00  ...   NaN   0.0   NaN   NaN\n",
            "\n",
            "[5 rows x 9 columns]\n",
            "223994\n",
            "    station_id       date      lat     long  TMAX  TMIN  PRCP  SNOW  SNWD\n",
            "0  US10adam002 2008-01-06  40.5093 -98.5493   NaN   NaN   0.0   0.0   0.0\n",
            "1  US10adam002 2008-01-13  40.5093 -98.5493   NaN   NaN   1.5   0.0   0.0\n",
            "2  US10adam002 2008-01-20  40.5093 -98.5493   NaN   NaN   0.0   0.0   0.0\n",
            "3  US10adam004 2008-01-06  40.4798 -98.4026   NaN   NaN   0.0   0.0   0.0\n",
            "4  US10adam004 2008-01-13  40.4798 -98.4026   NaN   NaN   2.8  51.0   0.0\n",
            "46222\n"
          ],
          "name": "stdout"
        }
      ]
    },
    {
      "cell_type": "code",
      "metadata": {
        "id": "TZAdHam0KyuE",
        "colab_type": "code",
        "outputId": "aab6e2f1-85aa-4996-f779-51b6789ff444",
        "colab": {
          "base_uri": "https://localhost:8080/",
          "height": 252
        }
      },
      "source": [
        "import matplotlib.pyplot as plt\n",
        "from scipy.interpolate import griddata\n",
        "def est_weather_map_at(start_date, weather_val):\n",
        "  mask = (precip_small['date'] >= start_date) & (precip_small['date'] < start_date + pd.Timedelta('7 days')) & (~precip_small[weather_val].isnull()) \n",
        "  mask = mask & (precip_small['lat'] > 19.5) & (precip_small['lat'] < 65) & (precip_small['long'] > -161.75583) & (precip_small['long'] < -68.01197)\n",
        "  dat = precip_small.loc[mask]\n",
        "  y = dat['lat']\n",
        "  x = dat['long']\n",
        "  z = dat[weather_val]\n",
        "  \n",
        "  if dat.shape[0] == 0:\n",
        "    print(start_date)\n",
        "    raise Exception(\"No weather data for the given date\")\n",
        "\n",
        "  xi = np.arange(-161, -68, .1)\n",
        "  yi = np.arange(19.5, 65, .1)\n",
        "  xi,yi = np.meshgrid(xi,yi)\n",
        "  zi_fill = griddata((x,y),z,(xi,yi),method='nearest')\n",
        "  zi = griddata((x,y),z,(xi,yi),method='linear')\n",
        "  mask = np.isnan(zi)\n",
        "  zi[mask] = zi_fill[mask]\n",
        "  return xi, yi, zi, x, y, z\n",
        "# Interpolate weather data\n",
        "# target grid to interpolate to\n",
        "#print(precip_small['TMAX'].unique())\n",
        "plot_date = '2008-1-2'\n",
        "xi, yi, zi, x, y, z = est_weather_map_at(pd.to_datetime(plot_date), 'TMAX')\n",
        "\n",
        "fig = plt.figure()\n",
        "ax = fig.add_subplot(111)\n",
        "plt.plot(x,y,'k.', alpha=0.01)\n",
        "CS = plt.contourf(xi,yi,zi,100)\n",
        "cbar = fig.colorbar(CS)\n",
        "cbar.ax.set_ylabel('degrees C')\n",
        "plt.title('Interpolated temperature maximums on ' + plot_date)\n",
        "plt.xlabel('longitude',fontsize=16)\n",
        "plt.ylabel('latitude',fontsize=16)\n",
        "plt.gca().set_aspect('equal', adjustable='box')\n",
        "plt.show()\n",
        "plt.close(fig)\n",
        "\n",
        "\n",
        "def est_weather_val(lat, long, xi, yi, zi):\n",
        "  # TODO this can be more efficient\n",
        "  longs = xi[0]\n",
        "  lats = yi[:, 0]\n",
        "\n",
        "  ilong = (np.abs(longs - long)).argmin()\n",
        "  ilat = (np.abs(lats - lat)).argmin()\n",
        "  return zi[ilat, ilong]\n",
        "\n",
        "\n"
      ],
      "execution_count": 28,
      "outputs": [
        {
          "output_type": "display_data",
          "data": {
            "image/png": "[encoded data removed]",
            "text/plain": [
              "<Figure size 432x288 with 2 Axes>"
            ]
          },
          "metadata": {
            "tags": []
          }
        }
      ]
    },
    {
      "cell_type": "code",
      "metadata": {
        "id": "fCELe3kH04CV",
        "colab_type": "code",
        "colab": {
          "base_uri": "https://localhost:8080/",
          "height": 156
        },
        "outputId": "bd49433b-b035-4b5d-cef1-9e692ba57a12"
      },
      "source": [
        "print(est_weather_val(34.411667, -112.401667, xi, yi, zi))\n",
        "def calc_weather(row, val='TMAX'):\n",
        "  date = row['DISCOVERY_DATE'].iloc[0]\n",
        "  xi, yi, zi, x, y, z = est_weather_map_at(date, val)\n",
        "  return row.apply(lambda p: est_weather_val(p['LATITUDE'],p['LONGITUDE'], xi, yi, zi), axis=1)\n",
        "\n",
        "# Make sure you remove all fires that are not during time periods we have weather data for.\n",
        "last_weather_date = max(precip_small['date'])\n",
        "first_weather_date = min(precip_small['date'])\n",
        "df_test = df[(df['DISCOVERY_DATE'] < last_weather_date) & (df['DISCOVERY_DATE'] >= first_weather_date)].reset_index(drop=True)\n",
        "print(\"Calculating weather for %d fires\" % df_test.shape[0])\n",
        "gb = df_test.groupby(pd.Grouper(key='DISCOVERY_DATE', freq='W'))\n",
        "for col in ['TMAX', 'TMIN', 'PRCP', 'SNOW']:\n",
        "  temp = gb.apply(calc_weather, val=col).transpose()\n",
        "  df_test[\"ABS_\" + col] = temp.reset_index(drop=True)\n",
        "print(df_test[['LATITUDE', 'LONGITUDE', 'ABS_TMAX', 'ABS_TMIN', 'ABS_PRCP', 'ABS_SNOW']].head())\n",
        "#df['TEMP_THIS_WEEK'] = df.apply(lambda r: , axis=1)"
      ],
      "execution_count": 29,
      "outputs": [
        {
          "output_type": "stream",
          "text": [
            "14.115586373585389\n",
            "Calculating weather for 2021 fires\n",
            "    LATITUDE   LONGITUDE   ABS_TMAX   ABS_TMIN   ABS_PRCP  ABS_SNOW\n",
            "0  36.823611  -91.097778  18.045417 -13.333187   0.254360       0.0\n",
            "1  36.412222  -82.192778  23.119393 -12.124576   0.000000       0.0\n",
            "2  32.370833  -89.609444  14.682151   1.105341  38.489639       0.0\n",
            "3  34.737222  -76.935556  18.526836  -6.142944   0.000000       0.0\n",
            "4  34.374722 -118.398889  20.924266 -10.127005   0.000000       0.0\n"
          ],
          "name": "stdout"
        }
      ]
    },
    {
      "cell_type": "code",
      "metadata": {
        "id": "l9qmXMTozqk5",
        "colab_type": "code",
        "colab": {
          "base_uri": "https://localhost:8080/",
          "height": 508
        },
        "outputId": "10674557-b214-4a5e-85a1-5ba0c7a99ffc"
      },
      "source": [
        "# Calculate yearwise means\n",
        "station_monthly_means = precip_small.groupby(['station_id', precip_small.date.dt.month]) \\\n",
        "  .agg({'lat': 'mean', 'long' : 'mean', 'TMAX' : 'mean', 'TMIN': 'mean', 'PRCP': 'mean', 'SNOW': 'mean', 'SNWD': 'mean'}) \\\n",
        "  .reset_index().rename(columns={'date': 'month'})\n",
        "df_test['month'] = df_test['DISCOVERY_DATE'].dt.month\n",
        "\n",
        "def est_mean_weather_map_at(month, weather_val):\n",
        "  mask = (station_monthly_means['month'] == month) & (~station_monthly_means[weather_val].isnull()) \n",
        "  mask = mask & (station_monthly_means['lat'] > 19.5) & (station_monthly_means['lat'] < 65) & (station_monthly_means['long'] > -161.75583) & (station_monthly_means['long'] < -68.01197)\n",
        "  dat = station_monthly_means.loc[mask]\n",
        "  y = dat['lat']\n",
        "  x = dat['long']\n",
        "  z = dat[weather_val]\n",
        "  \n",
        "  if dat.shape[0] == 0:\n",
        "    print(month)\n",
        "    raise Exception(\"No mean data for the given date\")\n",
        "\n",
        "  xi = np.arange(-161, -68, .1)\n",
        "  yi = np.arange(19.5, 65, .1)\n",
        "  xi,yi = np.meshgrid(xi,yi)\n",
        "  zi_fill = griddata((x,y),z,(xi,yi),method='nearest')\n",
        "  zi = griddata((x,y),z,(xi,yi),method='linear')\n",
        "  mask = np.isnan(zi)\n",
        "  zi[mask] = zi_fill[mask]\n",
        "  return xi, yi, zi, x, y, z\n",
        "\n",
        "xi, yi, zi, x, y, z = est_mean_weather_map_at(1, 'TMAX')\n",
        "\n",
        "fig = plt.figure()\n",
        "ax = fig.add_subplot(111)\n",
        "plt.plot(x,y,'k.', alpha=0.01)\n",
        "CS = plt.contourf(xi,yi,zi,100)\n",
        "cbar = fig.colorbar(CS)\n",
        "cbar.ax.set_ylabel('degrees C')\n",
        "plt.title('Interpolated mean temperature maximums of the month of January')\n",
        "plt.xlabel('longitude',fontsize=16)\n",
        "plt.ylabel('latitude',fontsize=16)\n",
        "plt.gca().set_aspect('equal', adjustable='box')\n",
        "plt.show()\n",
        "plt.close(fig)\n",
        "\n",
        "def calc_weather_mean(row, val='TMAX'):\n",
        "  month = row['month'].iloc[0]\n",
        "  xi, yi, zi, x, y, z = est_mean_weather_map_at(month, val)\n",
        "  return row.apply(lambda p: est_weather_val(p['LATITUDE'],p['LONGITUDE'], xi, yi, zi), axis=1)\n",
        "\n",
        "last_weather_month = max(station_monthly_means['month'])\n",
        "first_weather_month = min(station_monthly_means['month'])\n",
        "df_test = df_test[(df_test['month'] <= last_weather_month) & (df_test['month'] >= first_weather_month)].reset_index(drop=True)\n",
        "print(\"Calculating mean weather...\")\n",
        "gb = df_test.groupby('month')\n",
        "for col in ['TMAX', 'TMIN', 'PRCP', 'SNOW']:\n",
        "  temp = gb.apply(calc_weather_mean, val=col).transpose()\n",
        "  df_test[\"MEAN_\" + col] = temp.reset_index(drop=True)\n",
        "print(df_test[['month', 'LATITUDE', 'LONGITUDE', 'ABS_TMAX', 'MEAN_TMAX', 'ABS_PRCP', 'MEAN_PRCP']].groupby(['LATITUDE', 'LONGITUDE', 'month']).head())\n"
      ],
      "execution_count": 30,
      "outputs": [
        {
          "output_type": "display_data",
          "data": {
            "image/png": "[encoded data removed]",
            "text/plain": [
              "<Figure size 432x288 with 2 Axes>"
            ]
          },
          "metadata": {
            "tags": []
          }
        },
        {
          "output_type": "stream",
          "text": [
            "Calculating weather for 2021 fires\n",
            "      month   LATITUDE   LONGITUDE   ABS_TMAX  MEAN_TMAX   ABS_PRCP  MEAN_PRCP\n",
            "0         1  36.823611  -91.097778  18.045417  15.270643   0.254360   1.440389\n",
            "1         1  36.412222  -82.192778  23.119393  13.002799   0.000000   8.980919\n",
            "2         1  32.370833  -89.609444  14.682151  19.159736  38.489639   6.776955\n",
            "3         1  34.737222  -76.935556  18.526836  24.010369   0.000000   6.164370\n",
            "4         1  34.374722 -118.398889  20.924266  16.452151   0.000000   4.500217\n",
            "...     ...        ...         ...        ...        ...        ...        ...\n",
            "2016      1  21.320299 -157.852325  19.400000  27.286527   0.000000   1.580241\n",
            "2017      1  20.877712 -156.473541   1.960132  25.850670   6.211445   9.665285\n",
            "2018      1  20.907311 -156.416992   3.002839  25.037141   0.260905   2.653032\n",
            "2019      1  20.925615 -156.301834   4.224747  21.247804   9.746064  14.559335\n",
            "2020      1  20.909344 -156.291611   3.976399  21.247804  12.070152  14.559335\n",
            "\n",
            "[2021 rows x 7 columns]\n"
          ],
          "name": "stdout"
        }
      ]
    },
    {
      "cell_type": "code",
      "metadata": {
        "id": "dUf5xMyDdi2r",
        "colab_type": "code",
        "colab": {
          "base_uri": "https://localhost:8080/",
          "height": 1000
        },
        "outputId": "71ca8fd8-e11b-4bec-abbf-cb58a8f41a4c"
      },
      "source": [
        "from sklearn.linear_model import LinearRegression, Lasso\n",
        "from sklearn.tree import DecisionTreeRegressor\n",
        "from sklearn.ensemble import AdaBoostRegressor, BaggingRegressor, GradientBoostingRegressor\n",
        "from sklearn.model_selection import KFold\n",
        "from sklearn.metrics import mean_squared_error\n",
        "from math import sqrt\n",
        " \n",
        "models = [LinearRegression(), Lasso(), AdaBoostRegressor(), BaggingRegressor(), GradientBoostingRegressor()]\n",
        "dfl2 = df_test\n",
        "X = dfl2[[\"ABS_TMAX\", \"MEAN_TMAX\", \"ABS_PRCP\", \"MEAN_PRCP\"]]\n",
        "#X['ABS_TMAX'].fillna(, inplace=True)\n",
        "X['DIFF_TMAX'] = X[\"ABS_TMAX\"] - X['MEAN_TMAX']\n",
        "X['FRAC_MEAN_PRCP'] = (X[\"ABS_PRCP\"]/X['MEAN_PRCP']).fillna(0).replace(np.inf, 0)\n",
        "#X = X.drop(['M'])\n",
        "X# = pd.get_dummies(X, columns=[\"STAT_CAUSE_DESCR\"], prefix=[\"cause\"])\n",
        "\n",
        "for col in X.columns:\n",
        "  print(str(col) + \": \" + str((X[col] > 1000).sum()))\n",
        "\n",
        "y = dfl2[\"FIRE_SIZE\"]\n",
        "print(\"y: \" + str(y.isnull().sum()))\n",
        "\n",
        "print(X.head())\n",
        "print(X.shape[0])\n",
        "for model in models:\n",
        "  scores = []\n",
        "  rmss = []\n",
        "  kfold = KFold(n_splits=3, shuffle=True, random_state=42)\n",
        "  for i, (train, test) in enumerate(kfold.split(X, y)):\n",
        "    model.fit(X.iloc[train], y.iloc[train])\n",
        "    score = model.score(X.iloc[test], y.iloc[test])\n",
        "    scores.append(score)\n",
        "    y_predicted = model.predict(X.iloc[test])\n",
        "    rmss.append(sqrt(mean_squared_error(y.iloc[test], y_predicted)))\n",
        " \n",
        "\n",
        "  print(model)\n",
        "  print(\"R^2:\")\n",
        "  print(scores)\n",
        "  print(\"RMS:\")\n",
        "  print(rmss)\n",
        "\n",
        "  print(models[0].coef_)\n",
        "  top_i = np.abs(models[0].coef_).argsort()[-6:][::-1]\n",
        "  print([x for x in zip(X.columns[top_i], models[0].coef_[top_i])])\n",
        "  # Most"
      ],
      "execution_count": 54,
      "outputs": [
        {
          "output_type": "stream",
          "text": [
            "/usr/local/lib/python3.6/dist-packages/ipykernel_launcher.py:12: SettingWithCopyWarning: \n",
            "A value is trying to be set on a copy of a slice from a DataFrame.\n",
            "Try using .loc[row_indexer,col_indexer] = value instead\n",
            "\n",
            "See the caveats in the documentation: http://pandas.pydata.org/pandas-docs/stable/user_guide/indexing.html#returning-a-view-versus-a-copy\n",
            "  if sys.path[0] == '':\n",
            "/usr/local/lib/python3.6/dist-packages/ipykernel_launcher.py:13: SettingWithCopyWarning: \n",
            "A value is trying to be set on a copy of a slice from a DataFrame.\n",
            "Try using .loc[row_indexer,col_indexer] = value instead\n",
            "\n",
            "See the caveats in the documentation: http://pandas.pydata.org/pandas-docs/stable/user_guide/indexing.html#returning-a-view-versus-a-copy\n",
            "  del sys.path[0]\n"
          ],
          "name": "stderr"
        },
        {
          "output_type": "stream",
          "text": [
            "ABS_TMAX: 0\n",
            "MEAN_TMAX: 0\n",
            "ABS_PRCP: 0\n",
            "MEAN_PRCP: 0\n",
            "DIFF_TMAX: 0\n",
            "FRAC_MEAN_PRCP: 14\n",
            "y: 0\n",
            "    ABS_TMAX  MEAN_TMAX   ABS_PRCP  MEAN_PRCP  DIFF_TMAX  FRAC_MEAN_PRCP\n",
            "0  18.045417  15.270643   0.254360   1.440389   2.774774        0.176591\n",
            "1  23.119393  13.002799   0.000000   8.980919  10.116594        0.000000\n",
            "2  14.682151  19.159736  38.489639   6.776955  -4.477584        5.679488\n",
            "3  18.526836  24.010369   0.000000   6.164370  -5.483533        0.000000\n",
            "4  20.924266  16.452151   0.000000   4.500217   4.472115        0.000000\n",
            "2021\n",
            "LinearRegression(copy_X=True, fit_intercept=True, n_jobs=None, normalize=False)\n",
            "R^2:\n",
            "[-0.009522737669771741, 0.010326690719419496, 0.02368293776272468]\n",
            "RMS:\n",
            "[181.10446071848892, 294.3574474933935, 139.41220078689153]\n",
            "[-2.95782249e+00 -3.00227879e+00 -4.28025011e-01 -4.13047561e+00\n",
            "  4.44562963e-02 -3.38110198e-03]\n",
            "[('MEAN_PRCP', -4.13047561249125), ('MEAN_TMAX', -3.0022787880394364), ('ABS_TMAX', -2.9578224917532507), ('ABS_PRCP', -0.4280250105961875), ('DIFF_TMAX', 0.044456296286176866), ('FRAC_MEAN_PRCP', -0.003381101976180023)]\n",
            "Lasso(alpha=1.0, copy_X=True, fit_intercept=True, max_iter=1000,\n",
            "      normalize=False, positive=False, precompute=False, random_state=None,\n",
            "      selection='cyclic', tol=0.0001, warm_start=False)\n",
            "R^2:\n",
            "[-0.009319969933669459, 0.010195906398691279, 0.024002238421809485]\n",
            "RMS:\n",
            "[181.08627193270448, 294.3768963694513, 139.3894018164144]\n",
            "[-2.95782249e+00 -3.00227879e+00 -4.28025011e-01 -4.13047561e+00\n",
            "  4.44562963e-02 -3.38110198e-03]\n",
            "[('MEAN_PRCP', -4.13047561249125), ('MEAN_TMAX', -3.0022787880394364), ('ABS_TMAX', -2.9578224917532507), ('ABS_PRCP', -0.4280250105961875), ('DIFF_TMAX', 0.044456296286176866), ('FRAC_MEAN_PRCP', -0.003381101976180023)]\n",
            "AdaBoostRegressor(base_estimator=None, learning_rate=1.0, loss='linear',\n",
            "                  n_estimators=50, random_state=None)\n",
            "R^2:\n",
            "[-0.3277040677467482, -0.12878679235815982, -0.35975961804890977]\n",
            "RMS:\n",
            "[207.69294178393184, 314.36563072736027, 164.52670996918434]\n",
            "[-2.95782249e+00 -3.00227879e+00 -4.28025011e-01 -4.13047561e+00\n",
            "  4.44562963e-02 -3.38110198e-03]\n",
            "[('MEAN_PRCP', -4.13047561249125), ('MEAN_TMAX', -3.0022787880394364), ('ABS_TMAX', -2.9578224917532507), ('ABS_PRCP', -0.4280250105961875), ('DIFF_TMAX', 0.044456296286176866), ('FRAC_MEAN_PRCP', -0.003381101976180023)]\n",
            "BaggingRegressor(base_estimator=None, bootstrap=True, bootstrap_features=False,\n",
            "                 max_features=1.0, max_samples=1.0, n_estimators=10,\n",
            "                 n_jobs=None, oob_score=False, random_state=None, verbose=0,\n",
            "                 warm_start=False)\n",
            "R^2:\n",
            "[-0.06352069058979248, 0.20593781589016769, -0.32583822582214994]\n",
            "RMS:\n",
            "[185.88488049880587, 263.66735124418847, 162.46155719127677]\n",
            "[-2.95782249e+00 -3.00227879e+00 -4.28025011e-01 -4.13047561e+00\n",
            "  4.44562963e-02 -3.38110198e-03]\n",
            "[('MEAN_PRCP', -4.13047561249125), ('MEAN_TMAX', -3.0022787880394364), ('ABS_TMAX', -2.9578224917532507), ('ABS_PRCP', -0.4280250105961875), ('DIFF_TMAX', 0.044456296286176866), ('FRAC_MEAN_PRCP', -0.003381101976180023)]\n",
            "GradientBoostingRegressor(alpha=0.9, ccp_alpha=0.0, criterion='friedman_mse',\n",
            "                          init=None, learning_rate=0.1, loss='ls', max_depth=3,\n",
            "                          max_features=None, max_leaf_nodes=None,\n",
            "                          min_impurity_decrease=0.0, min_impurity_split=None,\n",
            "                          min_samples_leaf=1, min_samples_split=2,\n",
            "                          min_weight_fraction_leaf=0.0, n_estimators=100,\n",
            "                          n_iter_no_change=None, presort='deprecated',\n",
            "                          random_state=None, subsample=1.0, tol=0.0001,\n",
            "                          validation_fraction=0.1, verbose=0, warm_start=False)\n",
            "R^2:\n",
            "[-0.10844331590826052, 0.2500703706269509, -0.8823348831187214]\n",
            "RMS:\n",
            "[189.77012308805416, 256.23553368180154, 193.57701507145094]\n",
            "[-2.95782249e+00 -3.00227879e+00 -4.28025011e-01 -4.13047561e+00\n",
            "  4.44562963e-02 -3.38110198e-03]\n",
            "[('MEAN_PRCP', -4.13047561249125), ('MEAN_TMAX', -3.0022787880394364), ('ABS_TMAX', -2.9578224917532507), ('ABS_PRCP', -0.4280250105961875), ('DIFF_TMAX', 0.044456296286176866), ('FRAC_MEAN_PRCP', -0.003381101976180023)]\n"
          ],
          "name": "stdout"
        }
      ]
    },
    {
      "cell_type": "code",
      "metadata": {
        "id": "-SBUSEqao_am",
        "colab_type": "code",
        "colab": {}
      },
      "source": [
        "\n"
      ],
      "execution_count": 0,
      "outputs": []
    }
  ]
}